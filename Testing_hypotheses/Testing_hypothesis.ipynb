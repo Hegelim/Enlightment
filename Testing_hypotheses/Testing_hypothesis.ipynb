{
 "cells": [
  {
   "cell_type": "code",
   "execution_count": 1,
   "id": "external-french",
   "metadata": {},
   "outputs": [],
   "source": [
    "import pandas as pd\n",
    "import numpy as np\n",
    "import matplotlib.pyplot as plt\n",
    "import seaborn as sns"
   ]
  },
  {
   "cell_type": "markdown",
   "id": "amazing-disability",
   "metadata": {},
   "source": [
    "# Framingham "
   ]
  },
  {
   "cell_type": "markdown",
   "id": "together-roller",
   "metadata": {},
   "source": [
    "The Framingham Heart Study is a long-term, ongoing cardiovascular cohort study of residents of the city of Framingham, Massachusetts. The study began in 1948 with 5,209 adult subjects from Framingham, and is now on its fourth generation of participants. Prior to the study almost nothing was known about the epidemiology of hypertensive or arteriosclerotic cardiovascular disease. Much of the now-common knowledge concerning heart disease, such as the effects of diet, exercise, and common medications such as aspirin, is based on this longitudinal study. It is a project of the National Heart, Lung, and Blood Institute, in collaboration with (since 1971) Boston University. Various health professionals from the hospitals and universities of Greater Boston staff the project."
   ]
  },
  {
   "cell_type": "markdown",
   "id": "respiratory-million",
   "metadata": {},
   "source": [
    "Data source: https://www.kaggle.com/amanajmera1/framingham-heart-study-dataset <br>\n",
    "Further reading: https://en.wikipedia.org/wiki/Framingham_Heart_Study"
   ]
  },
  {
   "cell_type": "markdown",
   "id": "aging-bernard",
   "metadata": {},
   "source": [
    "## Diabetes and the population"
   ]
  },
  {
   "cell_type": "code",
   "execution_count": 22,
   "id": "environmental-approach",
   "metadata": {},
   "outputs": [
    {
     "data": {
      "text/html": [
       "<div>\n",
       "<style scoped>\n",
       "    .dataframe tbody tr th:only-of-type {\n",
       "        vertical-align: middle;\n",
       "    }\n",
       "\n",
       "    .dataframe tbody tr th {\n",
       "        vertical-align: top;\n",
       "    }\n",
       "\n",
       "    .dataframe thead th {\n",
       "        text-align: right;\n",
       "    }\n",
       "</style>\n",
       "<table border=\"1\" class=\"dataframe\">\n",
       "  <thead>\n",
       "    <tr style=\"text-align: right;\">\n",
       "      <th></th>\n",
       "      <th>male</th>\n",
       "      <th>age</th>\n",
       "      <th>education</th>\n",
       "      <th>currentSmoker</th>\n",
       "      <th>cigsPerDay</th>\n",
       "      <th>BPMeds</th>\n",
       "      <th>prevalentStroke</th>\n",
       "      <th>prevalentHyp</th>\n",
       "      <th>diabetes</th>\n",
       "      <th>totChol</th>\n",
       "      <th>sysBP</th>\n",
       "      <th>diaBP</th>\n",
       "      <th>BMI</th>\n",
       "      <th>heartRate</th>\n",
       "      <th>glucose</th>\n",
       "      <th>TenYearCHD</th>\n",
       "    </tr>\n",
       "  </thead>\n",
       "  <tbody>\n",
       "    <tr>\n",
       "      <th>0</th>\n",
       "      <td>1</td>\n",
       "      <td>39</td>\n",
       "      <td>4.0</td>\n",
       "      <td>0</td>\n",
       "      <td>0.0</td>\n",
       "      <td>0.0</td>\n",
       "      <td>0</td>\n",
       "      <td>0</td>\n",
       "      <td>0</td>\n",
       "      <td>195.0</td>\n",
       "      <td>106.0</td>\n",
       "      <td>70.0</td>\n",
       "      <td>26.97</td>\n",
       "      <td>80.0</td>\n",
       "      <td>77.0</td>\n",
       "      <td>0</td>\n",
       "    </tr>\n",
       "    <tr>\n",
       "      <th>1</th>\n",
       "      <td>0</td>\n",
       "      <td>46</td>\n",
       "      <td>2.0</td>\n",
       "      <td>0</td>\n",
       "      <td>0.0</td>\n",
       "      <td>0.0</td>\n",
       "      <td>0</td>\n",
       "      <td>0</td>\n",
       "      <td>0</td>\n",
       "      <td>250.0</td>\n",
       "      <td>121.0</td>\n",
       "      <td>81.0</td>\n",
       "      <td>28.73</td>\n",
       "      <td>95.0</td>\n",
       "      <td>76.0</td>\n",
       "      <td>0</td>\n",
       "    </tr>\n",
       "    <tr>\n",
       "      <th>2</th>\n",
       "      <td>1</td>\n",
       "      <td>48</td>\n",
       "      <td>1.0</td>\n",
       "      <td>1</td>\n",
       "      <td>20.0</td>\n",
       "      <td>0.0</td>\n",
       "      <td>0</td>\n",
       "      <td>0</td>\n",
       "      <td>0</td>\n",
       "      <td>245.0</td>\n",
       "      <td>127.5</td>\n",
       "      <td>80.0</td>\n",
       "      <td>25.34</td>\n",
       "      <td>75.0</td>\n",
       "      <td>70.0</td>\n",
       "      <td>0</td>\n",
       "    </tr>\n",
       "    <tr>\n",
       "      <th>3</th>\n",
       "      <td>0</td>\n",
       "      <td>61</td>\n",
       "      <td>3.0</td>\n",
       "      <td>1</td>\n",
       "      <td>30.0</td>\n",
       "      <td>0.0</td>\n",
       "      <td>0</td>\n",
       "      <td>1</td>\n",
       "      <td>0</td>\n",
       "      <td>225.0</td>\n",
       "      <td>150.0</td>\n",
       "      <td>95.0</td>\n",
       "      <td>28.58</td>\n",
       "      <td>65.0</td>\n",
       "      <td>103.0</td>\n",
       "      <td>1</td>\n",
       "    </tr>\n",
       "    <tr>\n",
       "      <th>4</th>\n",
       "      <td>0</td>\n",
       "      <td>46</td>\n",
       "      <td>3.0</td>\n",
       "      <td>1</td>\n",
       "      <td>23.0</td>\n",
       "      <td>0.0</td>\n",
       "      <td>0</td>\n",
       "      <td>0</td>\n",
       "      <td>0</td>\n",
       "      <td>285.0</td>\n",
       "      <td>130.0</td>\n",
       "      <td>84.0</td>\n",
       "      <td>23.10</td>\n",
       "      <td>85.0</td>\n",
       "      <td>85.0</td>\n",
       "      <td>0</td>\n",
       "    </tr>\n",
       "  </tbody>\n",
       "</table>\n",
       "</div>"
      ],
      "text/plain": [
       "   male  age  education  currentSmoker  cigsPerDay  BPMeds  prevalentStroke  \\\n",
       "0     1   39        4.0              0         0.0     0.0                0   \n",
       "1     0   46        2.0              0         0.0     0.0                0   \n",
       "2     1   48        1.0              1        20.0     0.0                0   \n",
       "3     0   61        3.0              1        30.0     0.0                0   \n",
       "4     0   46        3.0              1        23.0     0.0                0   \n",
       "\n",
       "   prevalentHyp  diabetes  totChol  sysBP  diaBP    BMI  heartRate  glucose  \\\n",
       "0             0         0    195.0  106.0   70.0  26.97       80.0     77.0   \n",
       "1             0         0    250.0  121.0   81.0  28.73       95.0     76.0   \n",
       "2             0         0    245.0  127.5   80.0  25.34       75.0     70.0   \n",
       "3             1         0    225.0  150.0   95.0  28.58       65.0    103.0   \n",
       "4             0         0    285.0  130.0   84.0  23.10       85.0     85.0   \n",
       "\n",
       "   TenYearCHD  \n",
       "0           0  \n",
       "1           0  \n",
       "2           0  \n",
       "3           1  \n",
       "4           0  "
      ]
     },
     "execution_count": 22,
     "metadata": {},
     "output_type": "execute_result"
    }
   ],
   "source": [
    "framingham = pd.read_csv(\"framingham.csv\")\n",
    "framingham.head()"
   ]
  },
  {
   "cell_type": "markdown",
   "id": "confused-creature",
   "metadata": {},
   "source": [
    "### 1. Propose Null and Alternative hypotheses"
   ]
  },
  {
   "cell_type": "markdown",
   "id": "august-extension",
   "metadata": {},
   "source": [
    "According to the CDC, the prevalence of diagnosed diabetes (i.e., the percentage of the population who have it) in the U.S. around this time was 0.93%. We are going to conduct a hypothesis test with the following null and alternative hypotheses: \n",
    "1. **Null hypothesis**: The probability that a participant within the Framingham Study has diabetes is equivalent to the prevalence of diagnosed diabetes within the population, any difference is due to chance.\n",
    "2. **Alternative hypothesis**: The probability that a participant within the Framingham Study has diabetes is different than the prevalence of diagnosed diabetes within the population."
   ]
  },
  {
   "cell_type": "markdown",
   "id": "physical-station",
   "metadata": {},
   "source": [
    "### 2. Propose a test statistic"
   ]
  },
  {
   "cell_type": "markdown",
   "id": "unavailable-belgium",
   "metadata": {},
   "source": [
    "**Test Statistic**: the absolute distance between the observed prevalence and the true population prevalence as our test statistic. "
   ]
  },
  {
   "cell_type": "markdown",
   "id": "unexpected-disclosure",
   "metadata": {},
   "source": [
    "The observed value of the statistic in the sample"
   ]
  },
  {
   "cell_type": "code",
   "execution_count": 45,
   "id": "acoustic-garbage",
   "metadata": {},
   "outputs": [
    {
     "data": {
      "text/plain": [
       "0.016407547169811323"
      ]
     },
     "execution_count": 45,
     "metadata": {},
     "output_type": "execute_result"
    }
   ],
   "source": [
    "prop_diabetes = np.abs(framingham[framingham[\"diabetes\"] == 1].shape[0] / framingham.shape[0] - 0.0093)\n",
    "prop_diabetes"
   ]
  },
  {
   "cell_type": "markdown",
   "id": "electrical-madagascar",
   "metadata": {},
   "source": [
    "### 3. The distribution of the test statistic under the null"
   ]
  },
  {
   "cell_type": "code",
   "execution_count": 46,
   "id": "agricultural-vertex",
   "metadata": {},
   "outputs": [],
   "source": [
    "def one_statistic():\n",
    "    n = framingham.shape[0]\n",
    "    random_sample = np.random.binomial(n, 0.0093, 1) / n\n",
    "    return np.abs(random_sample - 0.0093)"
   ]
  },
  {
   "cell_type": "code",
   "execution_count": 47,
   "id": "filled-group",
   "metadata": {},
   "outputs": [],
   "source": [
    "def bootstrap(n):\n",
    "    \"\"\"Return an array of n bootstrap samples.\"\"\"\n",
    "    test_statistics = np.array([])\n",
    "    for i in range(n):\n",
    "        statistic = one_statistic()\n",
    "        test_statistics = np.append(statistic, test_statistics)\n",
    "    return test_statistics"
   ]
  },
  {
   "cell_type": "code",
   "execution_count": 48,
   "id": "aggregate-product",
   "metadata": {},
   "outputs": [
    {
     "data": {
      "text/plain": [
       "array([0.00060566, 0.00036981, 0.00057358, ..., 0.00060566, 0.00154906,\n",
       "       0.00198868])"
      ]
     },
     "execution_count": 48,
     "metadata": {},
     "output_type": "execute_result"
    }
   ],
   "source": [
    "statistics = bootstrap(10000)\n",
    "statistics"
   ]
  },
  {
   "cell_type": "markdown",
   "id": "ongoing-saying",
   "metadata": {},
   "source": [
    "Plot a histogram"
   ]
  },
  {
   "cell_type": "code",
   "execution_count": 49,
   "id": "respected-solomon",
   "metadata": {},
   "outputs": [
    {
     "data": {
      "text/plain": [
       "Text(0, 0.5, 'Density')"
      ]
     },
     "execution_count": 49,
     "metadata": {},
     "output_type": "execute_result"
    },
    {
     "data": {
      "image/png": "[encoded data removed]",
      "text/plain": [
       "<Figure size 432x288 with 1 Axes>"
      ]
     },
     "metadata": {
      "needs_background": "light"
     },
     "output_type": "display_data"
    }
   ],
   "source": [
    "plt.hist(statistics, density=True, bins=20, edgecolor=\"black\")\n",
    "plt.scatter(prop_diabetes, 0, color=\"red\")\n",
    "plt.xlabel(\"Proportion of people with diabetes\")\n",
    "plt.ylabel(\"Density\")"
   ]
  },
  {
   "cell_type": "markdown",
   "id": "lesbian-statistics",
   "metadata": {},
   "source": [
    "P-value"
   ]
  },
  {
   "cell_type": "code",
   "execution_count": 50,
   "id": "statistical-nudist",
   "metadata": {},
   "outputs": [
    {
     "name": "stdout",
     "output_type": "stream",
     "text": [
      "The P-value is: 0.0\n"
     ]
    }
   ],
   "source": [
    "print(\"The P-value is: {}\".format(np.sum(statistics >= prop_diabetes) / len(statistics)))"
   ]
  },
  {
   "cell_type": "markdown",
   "id": "tribal-premiere",
   "metadata": {},
   "source": [
    "### 4. Conclusion of the test"
   ]
  },
  {
   "cell_type": "markdown",
   "id": "smooth-plain",
   "metadata": {},
   "source": [
    "Based on P-value, we reject the null hypothesis."
   ]
  },
  {
   "cell_type": "markdown",
   "id": "serious-promotion",
   "metadata": {},
   "source": [
    "### 5. Possible explanations"
   ]
  },
  {
   "cell_type": "markdown",
   "id": "characteristic-message",
   "metadata": {},
   "source": [
    "1. Diabetes was under-diagnosed in the population (i.e., there were a lot of people in the population who had diabetes but weren't diagnosed). By contrast, the Framingham participants were less likely to go undiagnosed because they had regular medical examinations as part of the study.\n",
    "2. The relatively wealthy population in Framingham ate a luxurious diet high in sugar (high-sugar diets are a known cause of diabetes).\n",
    "3. The Framingham Study subjects were older on average than the general population, and therefore more likely to have diabetes."
   ]
  },
  {
   "cell_type": "markdown",
   "id": "excellent-stock",
   "metadata": {},
   "source": [
    "## Cholesterol and Heart Disease"
   ]
  },
  {
   "cell_type": "markdown",
   "id": "final-dollar",
   "metadata": {},
   "source": [
    "### 1. Propose Null and Alternative Hypotheses"
   ]
  },
  {
   "cell_type": "markdown",
   "id": "exclusive-financing",
   "metadata": {},
   "source": [
    "In the remainder of this question, we are going to examine one of the main findings of the Framingham study: an association between serum cholesterol (i.e., how much cholesterol is in someone's blood) and whether or not that person develops heart disease.\n",
    "\n",
    "We'll use the following null and alternative hypotheses:\n",
    "\n",
    "**Null Hypothesis**: In the population, the distribution of cholesterol levels among those who get heart disease is the same as the distribution of cholesterol levels among those who do not.\n",
    "\n",
    "**Alternative Hypothesis**: The cholesterol levels of people in the population who get heart disease are higher, on average, than the cholesterol level of people who do not."
   ]
  },
  {
   "cell_type": "markdown",
   "id": "downtown-aspect",
   "metadata": {},
   "source": [
    "### 2. Choose a test statistic"
   ]
  },
  {
   "cell_type": "markdown",
   "id": "peaceful-zealand",
   "metadata": {},
   "source": [
    "**Test statistic**: the average cholesterol among the population who get heart disease - the average cholesterol level among the population who do not. "
   ]
  },
  {
   "cell_type": "markdown",
   "id": "compatible-resource",
   "metadata": {},
   "source": [
    "### 3. The distribution of the test statistic under the null"
   ]
  },
  {
   "cell_type": "code",
   "execution_count": 25,
   "id": "impaired-snowboard",
   "metadata": {},
   "outputs": [],
   "source": [
    "def cho_test_statistic(df):\n",
    "    \"\"\"Compute one test statistic give the dataframe df.\n",
    "    \n",
    "    Args:\n",
    "        df -- dataframe like framingham \n",
    "    \n",
    "    Return:\n",
    "        the average of cholesterol level among TenYearCHD=1 \n",
    "        - the average of cholesterol level among TenYearCHD=0\n",
    "    \"\"\"\n",
    "    series = df.groupby(\"TenYearCHD\")[\"totChol\"].agg(np.mean)\n",
    "    return series[1] - series[0] "
   ]
  },
  {
   "cell_type": "code",
   "execution_count": 24,
   "id": "documentary-poster",
   "metadata": {},
   "outputs": [
    {
     "data": {
      "text/plain": [
       "TenYearCHD\n",
       "0    235.147398\n",
       "1    245.388976\n",
       "Name: totChol, dtype: float64"
      ]
     },
     "execution_count": 24,
     "metadata": {},
     "output_type": "execute_result"
    }
   ],
   "source": [
    "framingham.groupby(\"TenYearCHD\")[\"totChol\"].agg(np.mean)"
   ]
  },
  {
   "cell_type": "code",
   "execution_count": 23,
   "id": "loose-leader",
   "metadata": {},
   "outputs": [
    {
     "data": {
      "text/plain": [
       "10.241578347010432"
      ]
     },
     "execution_count": 23,
     "metadata": {},
     "output_type": "execute_result"
    }
   ],
   "source": [
    "observed = cho_test_statistic(framingham)\n",
    "observed"
   ]
  },
  {
   "cell_type": "code",
   "execution_count": 34,
   "id": "sexual-angle",
   "metadata": {},
   "outputs": [],
   "source": [
    "def simulate_once(df):\n",
    "    \"\"\"Shuffle the TenYearCHD label of df and return one test statistic.\"\"\"\n",
    "    permuted = np.random.permutation(df[\"TenYearCHD\"])\n",
    "    copied = df.copy()\n",
    "    copied[\"TenYearCHD\"] = permuted \n",
    "    return cho_test_statistic(copied)"
   ]
  },
  {
   "cell_type": "code",
   "execution_count": 35,
   "id": "developing-alexander",
   "metadata": {},
   "outputs": [],
   "source": [
    "def simulate_n(df, n):\n",
    "    results = np.array([])\n",
    "    for i in range(n):\n",
    "        statistic = simulate_once(df)\n",
    "        results = np.append(results, statistic)\n",
    "    return results"
   ]
  },
  {
   "cell_type": "code",
   "execution_count": 36,
   "id": "treated-civilian",
   "metadata": {},
   "outputs": [
    {
     "data": {
      "text/plain": [
       "array([ 0.63601116,  0.12068252,  2.83508363, ...,  0.54175819,\n",
       "       -0.64350819,  0.28584993])"
      ]
     },
     "execution_count": 36,
     "metadata": {},
     "output_type": "execute_result"
    }
   ],
   "source": [
    "chos = simulate_n(framingham, 5000)\n",
    "chos"
   ]
  },
  {
   "cell_type": "code",
   "execution_count": 40,
   "id": "civilian-mileage",
   "metadata": {},
   "outputs": [
    {
     "data": {
      "text/plain": [
       "<matplotlib.collections.PathCollection at 0x16f9e886250>"
      ]
     },
     "execution_count": 40,
     "metadata": {},
     "output_type": "execute_result"
    },
    {
     "data": {
      "image/png": "[encoded data removed]",
      "text/plain": [
       "<Figure size 432x288 with 1 Axes>"
      ]
     },
     "metadata": {
      "needs_background": "light"
     },
     "output_type": "display_data"
    }
   ],
   "source": [
    "plt.hist(chos, bins=20, density=True, edgecolor=\"black\")\n",
    "plt.xlabel(\"Test statistic\")\n",
    "plt.ylabel(\"Density\")\n",
    "plt.title(\"Density of bootstrapped test statistics under the null\")\n",
    "plt.scatter(observed, 0, color=\"red\")"
   ]
  },
  {
   "cell_type": "code",
   "execution_count": 42,
   "id": "preceding-update",
   "metadata": {},
   "outputs": [
    {
     "data": {
      "text/plain": [
       "0.0"
      ]
     },
     "execution_count": 42,
     "metadata": {},
     "output_type": "execute_result"
    }
   ],
   "source": [
    "np.sum(chos >= observed) / len(chos)"
   ]
  },
  {
   "cell_type": "markdown",
   "id": "lasting-router",
   "metadata": {},
   "source": [
    "### 4. Conclusion of the test"
   ]
  },
  {
   "cell_type": "markdown",
   "id": "natural-fields",
   "metadata": {},
   "source": [
    "Based on the P-value, we reject the null hypothesis. "
   ]
  },
  {
   "cell_type": "code",
   "execution_count": null,
   "id": "geological-programming",
   "metadata": {},
   "outputs": [],
   "source": []
  },
  {
   "cell_type": "code",
   "execution_count": null,
   "id": "recreational-blast",
   "metadata": {},
   "outputs": [],
   "source": []
  },
  {
   "cell_type": "code",
   "execution_count": null,
   "id": "suspended-importance",
   "metadata": {},
   "outputs": [],
   "source": []
  }
 ],
 "metadata": {
  "kernelspec": {
   "display_name": "Python 3",
   "language": "python",
   "name": "python3"
  },
  "language_info": {
   "codemirror_mode": {
    "name": "ipython",
    "version": 3
   },
   "file_extension": ".py",
   "mimetype": "text/x-python",
   "name": "python",
   "nbconvert_exporter": "python",
   "pygments_lexer": "ipython3",
   "version": "3.8.5"
  }
 },
 "nbformat": 4,
 "nbformat_minor": 5
}
