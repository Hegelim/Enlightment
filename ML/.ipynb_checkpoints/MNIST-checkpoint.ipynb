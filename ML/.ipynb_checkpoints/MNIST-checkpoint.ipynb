{
 "cells": [
  {
   "cell_type": "code",
   "execution_count": 7,
   "id": "auburn-estonia",
   "metadata": {},
   "outputs": [],
   "source": [
    "import numpy as np\n",
    "import pandas as pd \n",
    "from tqdm import tqdm\n",
    "import scipy.io\n",
    "from sklearn.model_selection import train_test_split"
   ]
  },
  {
   "cell_type": "code",
   "execution_count": 4,
   "id": "developed-library",
   "metadata": {},
   "outputs": [],
   "source": [
    "mnist = scipy.io.loadmat('mnist_data.mat')\n",
    "mnist_training = mnist[\"training_data\"]\n",
    "mnist_labels = mnist[\"training_labels\"]\n",
    "mnist_test = mnist[\"test_data\"]"
   ]
  },
  {
   "cell_type": "code",
   "execution_count": 10,
   "id": "supreme-uganda",
   "metadata": {},
   "outputs": [],
   "source": [
    "class GDA:\n",
    "    \"\"\"Perform Gaussian discriminant analysis (both LDA and QDA).\"\"\"\n",
    "    def __init__(self, *args, **kwargs):\n",
    "        self._fit = False\n",
    "        \n",
    "        #TODO: Possibly add new instance variables\n",
    "        self.classes = None \n",
    "        self.pooled_cov = None\n",
    "        self.params = {}\n",
    "\n",
    "    def evaluate(self, X, y, alpha=1, mode=\"lda\"):\n",
    "        \"\"\"Predict and evaluate the accuracy using zero-one loss.\n",
    "\n",
    "        Args:\n",
    "            X (np.ndarray): The feature matrix shape (n, d)\n",
    "            y (np.ndarray): The true labels shape (d,)\n",
    "\n",
    "        Optional:\n",
    "            mode (str): Either \"lda\" or \"qda\".\n",
    "\n",
    "        Returns:\n",
    "            float: The accuracy loss of the learner.\n",
    "\n",
    "        Raises:\n",
    "            RuntimeError: If an unknown mode is passed into the method.\n",
    "        \"\"\"\n",
    "        #TODO: Compute predictions of trained model and calculate accuracy\n",
    "        #Hint: call `predict` to simplify logic\n",
    "        pred = self.predict(X, alpha, mode=mode)\n",
    "        accuracy = np.sum(pred == y.flatten()) / y.flatten().shape[0]\n",
    "        return accuracy\n",
    "    \n",
    "    def error_rate(self, X, y, alpha=1, mode=\"lda\"):\n",
    "        return 1 - self.evaluate(X, y, alpha, mode=mode)\n",
    "\n",
    "    def fit(self, X, y):\n",
    "        \"\"\"Train the GDA model (both LDA and QDA).\n",
    "\n",
    "        Args:\n",
    "            X (np.ndarray): The feature matrix (n, d)\n",
    "            y (np.ndarray): The true labels (n, d)\n",
    "        \"\"\"\n",
    "        #TODO: Train both the QDA and LDA model params based on the training data passed in\n",
    "        # This will most likely involve setting instance variables that can be accessed at test time\n",
    "        \n",
    "        # the model is fitted \n",
    "        self._fit = True\n",
    "        # set classes \n",
    "        self.classes = np.unique(y)\n",
    "        n = X.shape[0]\n",
    "        d = X.shape[1]\n",
    "        cov_var = np.zeros((d, d))\n",
    "        self.params = {}\n",
    "        for c in self.classes: \n",
    "            # current training data \n",
    "            indices = (y.flatten() == c)\n",
    "            cur_training = X[indices]\n",
    "            num_data = cur_training.shape[0]\n",
    "            # compute the prior \n",
    "            prior = num_data / n \n",
    "            # compute the class mean \n",
    "            ave = np.mean(cur_training, axis=0)\n",
    "            # compute the pooled within-class var \n",
    "            cur_var = (cur_training - ave).T @ (cur_training - ave)\n",
    "            cov_var = cov_var + cur_var\n",
    "            self.params[c] = (prior, ave, cur_var / num_data)\n",
    "        self.pooled_cov = cov_var / n\n",
    "        \n",
    "\n",
    "    def predict(self, X, alpha=1, mode=\"lda\"):\n",
    "        \"\"\"Use the fitted model to make predictions.\n",
    "\n",
    "        Args:\n",
    "            X (np.ndarray): The feature matrix of shape (n, d)\n",
    "            alpha: The constant to be added to the covariance matrix \n",
    "\n",
    "        Optional:\n",
    "            mode (str): Either \"lda\" or \"qda\".\n",
    "\n",
    "        Returns:\n",
    "            np.ndarray: The array of predictions of shape (n,)\n",
    "\n",
    "        Raises:\n",
    "            RuntimeError: If an unknown mode is passed into the method.\n",
    "            RuntimeError: If called before model is trained\n",
    "        \"\"\"\n",
    "        if not self._fit:\n",
    "            raise RuntimeError(\"Cannot predict for a model before `fit` is called\")\n",
    "\n",
    "        preds = None\n",
    "        if mode == \"lda\":\n",
    "            #TODO: Compute test-time preditions for LDA model trained in 'fit'\n",
    "#             log_posteriors = []\n",
    "#             for c in np.sort(self.classes):\n",
    "#                 log_prior = np.log(self.params[c][0])\n",
    "#                 log_likelihood = multivariate_normal.logpdf(x=X, \n",
    "#                                                             mean=self.params[c][1], \n",
    "#                                                             cov=self.pooled_cov, \n",
    "#                                                             allow_singular=True)\n",
    "#                 log_posterior = log_likelihood + log_prior \n",
    "#                 log_posteriors.append(log_posterior)\n",
    "#             preds = np.argmax(log_posteriors, axis=0)\n",
    "            mod_cov = self.pooled_cov + alpha * np.identity(self.pooled_cov.shape[0])\n",
    "            deltas = []\n",
    "            for c in self.classes:\n",
    "                prior = self.params[c][0]\n",
    "                mean = self.params[c][1]\n",
    "                inverse = np.linalg.inv(mod_cov)\n",
    "                delta = X @ inverse @ mean - 0.5 * mean.T @ inverse @ mean + np.log(prior) \n",
    "                deltas.append(delta)\n",
    "            preds = self.classes[np.argmax(deltas, axis=0)]\n",
    "        elif mode == \"qda\":\n",
    "            log_posteriors = []\n",
    "            for c in self.classes:\n",
    "                log_prior = np.log(self.params[c][0])\n",
    "                log_likelihood = multivariate_normal.logpdf(x=X, \n",
    "                                                            mean=self.params[c][1], \n",
    "                                                            cov=self.params[c][2], \n",
    "                                                            allow_singular=True)\n",
    "                log_posterior = log_likelihood + log_prior \n",
    "                log_posteriors.append(log_posterior)\n",
    "            preds = self.classes[np.argmax(log_posteriors, axis=0)]\n",
    "#             deltas = [] \n",
    "#             for c in np.sort(self.classes):\n",
    "#                 cov = self.params[c][2]\n",
    "#                 mod_cov = cov + alpha * np.identity(cov.shape[0])\n",
    "#                 prior = self.params[c][0]\n",
    "#                 mean = self.params[c][1]\n",
    "#                 inverse = np.linalg.inv(mod_cov)\n",
    "#                 delta = -0.5*X@inverse@X.T + X@inverse@mean - 0.5*mean.T@inverse@mean + np.log(prior)\n",
    "#                 deltas.append(delta)\n",
    "#             preds = np.argmax(deltas, axis=0)\n",
    "        else:\n",
    "            raise RuntimeError(\"Unknown mode!\")\n",
    "        return preds"
   ]
  },
  {
   "cell_type": "code",
   "execution_count": 6,
   "id": "actual-lighting",
   "metadata": {},
   "outputs": [],
   "source": [
    "def k_fold_cv(X, y, k, alpha=1, mode=\"lda\"):\n",
    "    acc = [] \n",
    "    # list of arrays of indices \n",
    "    indices = np.array_split(np.arange(X.shape[0]), k)\n",
    "    for i in tqdm(range(len(indices))):\n",
    "        # copy \n",
    "        a = indices.copy()\n",
    "        train_indices = np.concatenate(a)\n",
    "        test_indices = a.pop(i)\n",
    "        X_train = X[train_indices, :]\n",
    "        y_train = y[train_indices, :]\n",
    "        X_test = X[test_indices, :]\n",
    "        y_test = y[test_indices, :]\n",
    "        model = GDA()\n",
    "        model.fit(X_train, y_train)\n",
    "        acc.append(model.evaluate(X_test, y_test, alpha, mode=mode))\n",
    "    return np.mean(acc)"
   ]
  },
  {
   "cell_type": "code",
   "execution_count": 8,
   "id": "polish-singing",
   "metadata": {},
   "outputs": [],
   "source": [
    "def extract_hog(X, orientations, pixels_per_cell, cells_per_block, resizeFactor, anti_aliasing):\n",
    "    new_features = []\n",
    "    for i in tqdm(range(X.shape[0])):\n",
    "        cur_image = X[i].reshape(28, 28)\n",
    "        resized = resize(cur_image, resizeFactor, anti_aliasing=anti_aliasing)\n",
    "        edge = filters.sobel(resized)\n",
    "        cur_features = hog(edge, orientations=orientations, pixels_per_cell=pixels_per_cell,\n",
    "                           cells_per_block=cells_per_block, visualize=False, multichannel=False)\n",
    "        new_features.append(cur_features)\n",
    "    new_features = np.asarray(new_features)\n",
    "    return new_features"
   ]
  },
  {
   "cell_type": "code",
   "execution_count": 11,
   "id": "designing-breath",
   "metadata": {},
   "outputs": [
    {
     "name": "stderr",
     "output_type": "stream",
     "text": [
      "100%|████████████████████████████████████████████████████████████████████████████████████| 5/5 [00:17<00:00,  3.46s/it]"
     ]
    },
    {
     "name": "stdout",
     "output_type": "stream",
     "text": [
      "5-fold CV score for LDA is: 0.8712500000000001\n"
     ]
    },
    {
     "name": "stderr",
     "output_type": "stream",
     "text": [
      "\n"
     ]
    }
   ],
   "source": [
    "cv = k_fold_cv(mnist_training, mnist_labels, 5, alpha=1, mode=\"lda\")\n",
    "print(\"5-fold CV score for LDA is: {}\".format(cv))"
   ]
  },
  {
   "cell_type": "markdown",
   "id": "historic-short",
   "metadata": {},
   "source": [
    "# Using SVM"
   ]
  },
  {
   "cell_type": "code",
   "execution_count": null,
   "id": "arbitrary-analyst",
   "metadata": {},
   "outputs": [],
   "source": [
    "from sklearn.svm import SVC\n"
   ]
  },
  {
   "cell_type": "markdown",
   "id": "annual-banner",
   "metadata": {},
   "source": [
    "# Using NN"
   ]
  },
  {
   "cell_type": "code",
   "execution_count": null,
   "id": "silver-craft",
   "metadata": {},
   "outputs": [],
   "source": []
  }
 ],
 "metadata": {
  "kernelspec": {
   "display_name": "Python 3",
   "language": "python",
   "name": "python3"
  },
  "language_info": {
   "codemirror_mode": {
    "name": "ipython",
    "version": 3
   },
   "file_extension": ".py",
   "mimetype": "text/x-python",
   "name": "python",
   "nbconvert_exporter": "python",
   "pygments_lexer": "ipython3",
   "version": "3.8.5"
  }
 },
 "nbformat": 4,
 "nbformat_minor": 5
}
